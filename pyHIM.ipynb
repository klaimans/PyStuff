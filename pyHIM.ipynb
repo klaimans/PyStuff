{
 "cells": [
  {
   "cell_type": "code",
   "execution_count": 1,
   "metadata": {
    "collapsed": true
   },
   "outputs": [],
   "source": [
    "%matplotlib inline\n",
    "import numpy as np\n",
    "\n",
    "import matplotlib.pyplot as plt\n",
    "from matplotlib import cm\n",
    "\n",
    "from scipy.stats import multivariate_normal"
   ]
  },
  {
   "cell_type": "code",
   "execution_count": 5,
   "metadata": {
    "collapsed": false
   },
   "outputs": [],
   "source": [
    "from pyMBstat.HIM import HIM"
   ]
  },
  {
   "cell_type": "markdown",
   "metadata": {},
   "source": [
    "# The Harmonic Interaction Model\n",
    "\n",
    "### The N-body probabilty distribution function (PDF)\n",
    "\n",
    "\\begin{align} \n",
    "P_m &\\equiv P(r_1,r_2,\\ldots,r_m) = \\left|\\Psi\\left(r_1,r_2,\\ldots,r_N\\right)\\right|^2 \\\\\n",
    "&= \\left(\\frac{\\delta_N}{\\pi}\\right)^{\\frac{dm}{2}}\\left(\\frac{N\\omega}{(N-m)\\omega +m\\delta_N}\\right)^{\\frac{d}{2}}\\exp\\left(-\\frac{1}{N}\\left(\\omega+(N-1)\\delta_N\\right)\\sum_{i=1}^mr_i^2-\\frac{2}{N}\n",
    "\\sum_{i<j}^mr_ir_j-C_m\\left(\\sum_{i=1}^mr_i\\right)^2\\right)\n",
    "\\end{align}\n",
    "\n",
    "\n",
    "#### where\n",
    "\\begin{equation*}\n",
    "C_m = -\\frac{1}{N}\\frac{(N-m)(\\omega-\\delta_N)^2}{(N-m)\\omega + m \\delta_N} \n",
    "\\end{equation*}\n",
    "\n",
    "### Probability \"Chain Rule\"\n",
    "\n",
    "\\begin{equation*}\n",
    "P(r_1,r_2,\\ldots,r_m) = P(r_1)P(r_2|r_1)\\cdots P(r_m|r_1,r_2,\\ldots,r_{m-1})\n",
    "\\end{equation*}\n",
    "\n",
    "### The conditional probability\n",
    "\n",
    "\\begin{align} \n",
    "P(r_m|r_1,r_2,\\ldots,r_{m-1}) &= \\frac{P(r_1,r_2,\\ldots,r_m)}{P(r_1,r_2,\\ldots,r_{m-1})}= \\frac{P_m}{P_{m-1}}\\\\ &= \\left(\\frac{\\delta_N}{\\pi}\\right)^{\\frac{d}{2}}\\left(1 + \\frac{\\omega-\\delta_N}{(N-m)\\omega +m\\delta_N}\\right)^{\\frac{d}{2}}\\exp\\left(-\\frac{1}{N}(\\omega+(N-1)\\delta_N)r_m^2 -\\frac{1}{N}r_m\\sum_{i=1}^{m-1}r_i\\right)\\\\\n",
    "&\\times\\exp\\left( -C_mr_m^2-2C_mr_m\\sum_{i=1}^{m-1}r_i-\\left(\\sum_{i=1}^{m-1}r_i\\right)^2\\left(C_m-C_{m-1}\\right) \\right) \\\\\n",
    "&= \\frac{1}{\\sqrt{2\\pi\\sigma_m^2}}\\exp\\left(-\\frac{\\left(r_m-\\mu_m\\right)^2}{2\\sigma_m^2} \\right)\n",
    "\\end{align}\n",
    "\n",
    "\n",
    "#### where\n",
    "\\begin{equation*}\n",
    "\\mu_m = \\frac{\\omega-\\delta_N}{(m-1)\\delta_N+(1-m+N)\\omega}\\sum_{i=1}^{m-1}r_i \n",
    "\\end{equation*}\n",
    "\\begin{equation*}\n",
    "\\sigma_m^2 = \\frac{m(\\delta_N-\\omega)+N\\omega}{2\\delta_N\\left((m-1)\\delta_N+(1-m+N)\\omega\\right)} \n",
    "\\end{equation*}\n",
    "\n"
   ]
  },
  {
   "cell_type": "code",
   "execution_count": 6,
   "metadata": {
    "collapsed": false,
    "scrolled": true
   },
   "outputs": [],
   "source": [
    "system = HIM(N = 2, omega = 1, lambda0 = 5);\n",
    "#print(system.__doc__)\n",
    "#system.check_condP()"
   ]
  },
  {
   "cell_type": "code",
   "execution_count": 7,
   "metadata": {
    "collapsed": false
   },
   "outputs": [
    {
     "name": "stdout",
     "output_type": "stream",
     "text": [
      "Estimated Sampling Efficency=14.46%\n"
     ]
    }
   ],
   "source": [
    "rho1hist = system.rho1hist(numshots = 100000)"
   ]
  },
  {
   "cell_type": "code",
   "execution_count": null,
   "metadata": {
    "collapsed": false
   },
   "outputs": [],
   "source": [
    "plt.hist(rho1hist,normed = 1, bins = 32, alpha = 0.5, histtype='stepfilled', linewidth = 3, color = 'b');\n",
    "plt.plot(x,  system.rho1(x), linewidth = 3, color = 'k');"
   ]
  },
  {
   "cell_type": "code",
   "execution_count": null,
   "metadata": {
    "collapsed": false,
    "scrolled": false
   },
   "outputs": [],
   "source": [
    "sshot = system.singleshot(numshots = 100000)"
   ]
  },
  {
   "cell_type": "code",
   "execution_count": null,
   "metadata": {
    "collapsed": false,
    "scrolled": false
   },
   "outputs": [],
   "source": [
    "x = np.linspace(-3,3,512,endpoint=True)\n",
    "plt.subplots(figsize = (12,8))\n",
    "#plt.hist(sshot.ravel(),normed = 1, bins = 32, alpha = 0.5, histtype='stepfilled', linewidth = 3, color = 'b');\n",
    "plt.hist(sshot[:,0],normed = 1, bins = 32, alpha = 0.5, histtype='stepfilled', linewidth = 3, color = 'b');\n",
    "plt.plot(x,  system.rho1(x), linewidth = 3, color = 'k');\n",
    "plt.plot(x,  system.conditonalP(x,0,2),'--', linewidth = 3, color = 'r');\n",
    "#plt.plot(x,  system.conditonalP(x,0,3),':', linewidth = 3, color = 'g');\n",
    "#plt.plot(x,  system.conditonalP(x,0,4),'--', linewidth = 3, color = 'm');"
   ]
  },
  {
   "cell_type": "code",
   "execution_count": null,
   "metadata": {
    "collapsed": false
   },
   "outputs": [],
   "source": [
    "system = HIM(N = 2, omega = 1, lambda0 = 1)\n",
    "#sshot = system.singleshot(numshots = 10000)\n",
    "rho2hist = system.rho2hist(numshots = 100000)"
   ]
  },
  {
   "cell_type": "code",
   "execution_count": null,
   "metadata": {
    "collapsed": false
   },
   "outputs": [],
   "source": [
    "#H, edges = np.histogramdd(sshot, bins = (32,32))\n",
    "H, edges = np.histogramdd(rho2hist, bins = (32,32))\n",
    "fig, axs = plt.subplots(1,2,figsize = (12,6))\n",
    "H = H / len(rho2hist[:,0])\n",
    "axs[0].pcolor(H)        \n",
    "xvec = np.linspace(-4,4,32,endpoint=True)\n",
    "Pxy = np.zeros((len(xvec),len(xvec)))\n",
    "for i,x in enumerate(xvec):\n",
    "    for j,xp in enumerate(xvec):\n",
    "        Pxy[i,j] = system.rho2(x,xp)\n",
    "#[X1,X2] = np.meshgrid(x,x)\n",
    "axs[1].pcolor(Pxy);\n"
   ]
  },
  {
   "cell_type": "code",
   "execution_count": null,
   "metadata": {
    "collapsed": false
   },
   "outputs": [],
   "source": [
    "rho2hist.shape"
   ]
  },
  {
   "cell_type": "code",
   "execution_count": null,
   "metadata": {
    "collapsed": false
   },
   "outputs": [],
   "source": [
    "type(rho2hist)"
   ]
  },
  {
   "cell_type": "code",
   "execution_count": null,
   "metadata": {
    "collapsed": false
   },
   "outputs": [],
   "source": [
    "sum(sum(H))"
   ]
  },
  {
   "cell_type": "code",
   "execution_count": null,
   "metadata": {
    "collapsed": false
   },
   "outputs": [],
   "source": [
    "sum(sum(Pxy))*(xvec[1]-xvec[0])**2"
   ]
  },
  {
   "cell_type": "code",
   "execution_count": null,
   "metadata": {
    "collapsed": true
   },
   "outputs": [],
   "source": [
    "H, xedges, yedges = np.histogram2d(, y, bins=(xedges, yedges))\n",
    "H = H.T  # Let each row list bins with common y range.\n",
    "plt.pcolor(H/)"
   ]
  },
  {
   "cell_type": "code",
   "execution_count": null,
   "metadata": {
    "collapsed": false
   },
   "outputs": [],
   "source": [
    "sshot.shape"
   ]
  },
  {
   "cell_type": "code",
   "execution_count": null,
   "metadata": {
    "collapsed": false
   },
   "outputs": [],
   "source": [
    "hist, bins = np.histogram(sshot[:,0], density=False, bins = 32)\n",
    "\n",
    "width = 0.7 * (bins[1] - bins[0])\n",
    "center = (bins[:-1] + bins[1:]) / 2\n",
    "hist_size = sum(hist)\n",
    "plt.bar(center, hist/hist_size, align='center', width=width);\n",
    "\n",
    "hist, bins = np.histogram(sshot[:,1], density=False, bins = 32)\n",
    "\n",
    "width = 0.7 * (bins[1] - bins[0])\n",
    "center = (bins[:-1] + bins[1:]) / 2\n",
    "hist_size = sum(hist)\n",
    "plt.bar(center, hist/hist_size, align='center', width=width);\n",
    "\n",
    "#sshot_2_rho = sshot[:,0]*sum(sshot[:,1])/sshot.shape[0]"
   ]
  },
  {
   "cell_type": "code",
   "execution_count": null,
   "metadata": {
    "collapsed": false
   },
   "outputs": [],
   "source": [
    "sum(hist/np.sqrt(hist_size))*0.14821015"
   ]
  },
  {
   "cell_type": "code",
   "execution_count": null,
   "metadata": {
    "collapsed": false
   },
   "outputs": [],
   "source": [
    "np.diff(bins)"
   ]
  },
  {
   "cell_type": "code",
   "execution_count": null,
   "metadata": {
    "collapsed": false
   },
   "outputs": [],
   "source": [
    "plt.subplots(figsize = (12,8))\n",
    "#plt.hist(sshot[:,0],normed = 1, bins = 32, alpha = 0.5, histtype='stepfilled', linewidth = 3, color = 'b');\n",
    "#plt.plot(x,  system.rho1(x), linewidth = 3, color = 'k');\n",
    "#plt.plot(x,  system.conditonalP(x,0,2),'--', linewidth = 3, color = 'r');"
   ]
  },
  {
   "cell_type": "code",
   "execution_count": null,
   "metadata": {
    "collapsed": false
   },
   "outputs": [],
   "source": [
    "#x = np.random.random_sample(1000)\n",
    "#y = np.random.random_sample(1000)\n",
    "x = np.random.randn(10000)\n",
    "y = np.random.randn(10000)\n",
    "H, xedges, yedges = np.histogram2d(x, y, bins=(32, 32))\n",
    "H = H.T  # Let each row list bins with common y range.\n",
    "\n",
    "fig = plt.figure(figsize=(12, 8))\n",
    "plt.pcolor(H);"
   ]
  },
  {
   "cell_type": "code",
   "execution_count": null,
   "metadata": {
    "collapsed": false
   },
   "outputs": [],
   "source": [
    "[X,Y] = np.meshgrid(x,y)\n",
    "P = 1/(1 * np.sqrt(2 * np.pi)) * np.exp( - (X - 0)**2 / (2 * 1**2)) *1/(1 * np.sqrt(2 * np.pi)) * np.exp( - (Y - 0)**2 / (2 * 1**2)) \n",
    "plt.pcolor(P);"
   ]
  }
 ],
 "metadata": {
  "kernelspec": {
   "display_name": "Python [conda root]",
   "language": "python",
   "name": "conda-root-py"
  },
  "language_info": {
   "codemirror_mode": {
    "name": "ipython",
    "version": 3
   },
   "file_extension": ".py",
   "mimetype": "text/x-python",
   "name": "python",
   "nbconvert_exporter": "python",
   "pygments_lexer": "ipython3",
   "version": "3.5.2"
  }
 },
 "nbformat": 4,
 "nbformat_minor": 2
}
