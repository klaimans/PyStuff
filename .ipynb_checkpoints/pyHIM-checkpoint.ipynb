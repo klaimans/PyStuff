{
 "cells": [
  {
   "cell_type": "markdown",
   "metadata": {},
   "source": [
    "### Setting up the environment"
   ]
  },
  {
   "cell_type": "code",
   "execution_count": null,
   "metadata": {
    "collapsed": true
   },
   "outputs": [],
   "source": [
    "%matplotlib inline\n",
    "import numpy as np\n",
    "\n",
    "import matplotlib.pyplot as plt\n",
    "from matplotlib import cm\n",
    "\n",
    "from scipy.stats import multivariate_normal\n",
    "\n",
    "# Load model\n",
    "from pyMBstat.HIM import HIM"
   ]
  },
  {
   "cell_type": "markdown",
   "metadata": {},
   "source": [
    "# The Harmonic Interaction Model\n",
    "\n",
    "### The N-body probabilty distribution function (PDF)\n",
    "\n",
    "\\begin{align} \n",
    "P_m &\\equiv P(x_1,x_2,\\ldots,x_m) = \\int\\left|\\Psi\\left(x_1,x_2,\\ldots,x_N\\right)\\right|^2dx_{m+1}dx_{m+2}\\cdots dx_N \\\\\n",
    "&= \\left(\\frac{\\delta_N}{\\pi}\\right)^{\\frac{m}{2}}\\left(\\frac{N\\omega}{(N-m)\\omega +m\\delta_N}\\right)^{\\frac{1}{2}}\\exp\\left(-\\frac{1}{N}\\left(\\omega+(N-1)\\delta_N\\right)\\sum_{i=1}^mx_i^2-\\frac{2}{N}\n",
    "\\sum_{i<j}^mx_ix_j-C_m\\left(\\sum_{i=1}^mx_i\\right)^2\\right)\n",
    "\\end{align}\n",
    "\n",
    "\n",
    "#### where\n",
    "\\begin{equation*}\n",
    "C_m = -\\frac{1}{N}\\frac{(N-m)(\\omega-\\delta_N)^2}{(N-m)\\omega + m \\delta_N} \n",
    "\\end{equation*}\n",
    "\n",
    "### Probability \"Chain Rule\"\n",
    "\n",
    "\\begin{equation*}\n",
    "P(x_1,x_2,\\ldots,x_m) = P(x_1)P(x_2|x_1)\\cdots P(x_m|x_1,x_2,\\ldots,x_{m-1})\n",
    "\\end{equation*}\n",
    "\n",
    "### The conditional probability\n",
    "\n",
    "\\begin{align} \n",
    "P(x_m|x_1,x_2,\\ldots,x_{m-1}) &= \\frac{P(x_1,x_2,\\ldots,x_m)}{P(x_1,x_2,\\ldots,x_{m-1})}= \\frac{P_m}{P_{m-1}}\\\\ &= \\left(\\frac{\\delta_N}{\\pi}\\right)^{\\frac{1}{2}}\\left(1 + \\frac{\\omega-\\delta_N}{(N-m)\\omega +m\\delta_N}\\right)^{\\frac{1}{2}}\\exp\\left(-\\frac{1}{N}(\\omega+(N-1)\\delta_N)x_m^2 -\\frac{1}{N}x_m\\sum_{i=1}^{m-1}x_i\\right)\\\\\n",
    "&\\times\\exp\\left( -C_mx_m^2-2C_mx_m\\sum_{i=1}^{m-1}x_i-\\left(\\sum_{i=1}^{m-1}x_i\\right)^2\\left(C_m-C_{m-1}\\right) \\right) \\\\\n",
    "&= \\frac{1}{\\sqrt{2\\pi\\sigma_m^2}}\\exp\\left(-\\frac{\\left(x_m-\\mu_m\\right)^2}{2\\sigma_m^2} \\right)\n",
    "\\end{align}\n",
    "\n",
    "\n",
    "#### where\n",
    "\\begin{equation*}\n",
    "\\mu_m = \\frac{\\omega-\\delta_N}{(m-1)\\delta_N+(1-m+N)\\omega}\\sum_{i=1}^{m-1}x_i \n",
    "\\end{equation*}\n",
    "\\begin{equation*}\n",
    "\\sigma_m^2 = \\frac{m(\\delta_N-\\omega)+N\\omega}{2\\delta_N\\left((m-1)\\delta_N+(1-m+N)\\omega\\right)} \n",
    "\\end{equation*}\n",
    "\n",
    "### The reduced one-body Density\n",
    "\n",
    "\\begin{align} \n",
    "\\rho_{1}(x,x^\\prime) &= N \\left(\\frac{\\delta_NN\\omega/\\pi}{(N-1)\\omega+\\delta_N}\\right)^{1/2}\\exp\\left(-a_1\\left(x^2 + x^{\\prime 2} \\right)+a_2xx^\\prime\\right) \\\\\n",
    "&= N \\left(\\frac{a^2}{\\pi}\\right)^{1/2}\\exp\\left(-\\frac{1}{4}\\left(a^2+b^2\\right)\\left(x^2 + x^{\\prime 2} \\right)-\\frac{1}{2}\\left(a^2-b^2\\right)xx^\\prime\\right)\\\\\n",
    "&= N \\left(\\frac{a^2}{\\pi}\\right)^{1/2}\\exp\\left(-\\frac{ab}{2}\\left(x^2 + x^{\\prime 2} \\right)\\right)\\exp\\left(-\\frac{1}{4}\\left(a-b\\right)^2\\left(x^2 + x^{\\prime 2} \\right)-\\frac{1}{2}\\left(a^2-b^2\\right)xx^\\prime\\right)\\\\\n",
    "&= N \\left(\\frac{a^2}{\\pi}\\right)^{1/2}\\exp\\left(-\\frac{ab}{2}\\left(x^2 + x^{\\prime 2} \\right)\\right) \\\\\n",
    "&\\times\n",
    "\\exp\\left(-\\frac{(a+b)^2}{4ab}\\left(\\left(\\frac{a-b}{a+b}\\right)^2\\left((\\sqrt{ab}r)^2 + (\\sqrt{ab}r^{\\prime})^2 \\right)+2\\left(\\frac{a-b}{a+b}\\right)(\\sqrt{ab}x)(\\sqrt{ab}x^\\prime)\\right)\\right)\\\\\n",
    "&=N \\left(\\frac{a^2}{\\pi}\\right)^{1/2}\\exp\\left(-\\frac{\\alpha^2}{2}\\left(x^2 + x^{\\prime 2} \\right)\\right)\n",
    "\\exp\\left(-\\frac{z^2}{1-z^2}\\left((\\alpha x)^2 + (\\alpha x^{\\prime})^2 \\right)+\\frac{2z}{1-z^2}(\\alpha x)(\\alpha x^\\prime)\\right)\n",
    "\\end{align}\n",
    "\n",
    "#### where\n",
    "\\begin{align*}\n",
    "a^2 &= 2a_1 - a_2 \\\\\n",
    "b^2 &= 2a_1 + a_2 \\\\\n",
    "z &= -\\frac{a-b}{a+b} \\\\\n",
    "\\alpha &= \\sqrt{ab}\n",
    "\\end{align*}\n",
    "\n",
    "#### using Mehler's formula [1]\n",
    "\n",
    "\\begin{align*}\n",
    "\\exp\\left(-\\frac{z^2}{1-z^2}(t_1^2+t_2^2) + \\frac{2z}{1-z^2}t_1t_2\\right) = (1-z^2)^{1/2}\\sum_{n=0}^{\\infty}\\frac{z^n}{2^nn!}H_n(t_1)H_n(t_2)\n",
    "\\end{align*}\n",
    "\n",
    "#### the reduced one-body density reads\n",
    "\n",
    "\\begin{align*}\n",
    "\\rho_{1}(x,x^\\prime) &= N \\left(\\frac{a^2}{\\pi}\\right)^{1/2}\n",
    "(1-z^2)^{1/2}\\sum_{n=0}^{\\infty}\\frac{z^n}{2^nn!}\\exp\\left(-\\frac{\\alpha^2 x^2}{2} \\right)H_n(\\alpha x)\\exp\\left(-\\frac{\\alpha^2 x^{\\prime 2}}{2} \\right)H_n(\\alpha x^\\prime)\\\\\n",
    "&= N \n",
    "\\sum_{n=0}^{\\infty}(1-z)z^n\\varphi_n(\\alpha x)\\varphi_n(\\alpha x^\\prime)\n",
    "\\end{align*}\n",
    "\n",
    "#### where we have defined the natural orbitals\n",
    "\n",
    "\\begin{align*}\n",
    "\\varphi_n(\\alpha x) &= \\left(\\frac{\\alpha}{\\sqrt{\\pi}2^nn!}\\right)^{1/2}\\exp\\left(-\\frac{\\alpha^2 x^2}{2} \\right)H_n(\\alpha x)\n",
    "\\end{align*}\n",
    "\n",
    "[1] Peter D. Robinson J. Chem. Phys. 66, 3307, (1977).\n"
   ]
  },
  {
   "cell_type": "code",
   "execution_count": null,
   "metadata": {
    "collapsed": false,
    "scrolled": true
   },
   "outputs": [],
   "source": [
    "system = HIM(N = 10, omega = 1, Lambda = 0.1);\n",
    "#system = HIM(N = 100, omega = 1, lambda0 = 0.01);\n",
    "#print(system.__doc__)"
   ]
  },
  {
   "cell_type": "markdown",
   "metadata": {},
   "source": [
    "### Preparing the Single-Shots"
   ]
  },
  {
   "cell_type": "code",
   "execution_count": null,
   "metadata": {
    "collapsed": true
   },
   "outputs": [],
   "source": [
    "sshot,Psshot = system.singleshot_chainrule(numshots = 1000)"
   ]
  },
  {
   "cell_type": "markdown",
   "metadata": {},
   "source": [
    "### Averaging all the Single-Shots produces the Boson Density"
   ]
  },
  {
   "cell_type": "code",
   "execution_count": null,
   "metadata": {
    "collapsed": false,
    "scrolled": false
   },
   "outputs": [],
   "source": [
    "xmin = -4\n",
    "xmax = 4\n",
    "x = np.linspace(xmin,xmax,512,endpoint=True)\n",
    "num_bins = 128\n",
    "plt.subplots(figsize = (12,8))\n",
    "plt.hist(sshot.ravel(),normed = 1, bins = num_bins, range=[xmin, xmax], alpha = 0.3, linewidth = 6, \n",
    "         color = 'b', histtype = 'step');\n",
    "plt.hist(sshot.ravel(),normed = 1, bins = num_bins, range=[xmin, xmax], alpha = 0.3, linewidth = 0, \n",
    "         color = 'b', histtype = 'bar');\n",
    "plt.plot(x,  system.rho1(x), linewidth = 4, color = 'k',linestyle='--', label='Boson Density');\n",
    "plt.legend(fontsize = 'xx-large');\n",
    "plt.xlabel('Position',fontsize = 'xx-large');\n",
    "plt.ylabel('Probability density',fontsize = 'xx-large');\n",
    "plt.xticks(fontsize = 'x-large');\n",
    "plt.yticks(fontsize = 'x-large');\n",
    "plt.xlim((xmin,xmax));"
   ]
  },
  {
   "cell_type": "markdown",
   "metadata": {},
   "source": [
    "### Looking at one Single-Shot\n",
    "\n",
    "Provided the number of particles is sufficiently large, comparing a single-shot to the boson density the level of condensation can be estimated. For fully condensed systems, a single-shot samples the density and so they should be the close even without averaging many single-shots. "
   ]
  },
  {
   "cell_type": "code",
   "execution_count": null,
   "metadata": {
    "collapsed": false,
    "scrolled": false
   },
   "outputs": [],
   "source": [
    "num_bins = 128\n",
    "H = np.zeros((sshot.shape[0],num_bins))\n",
    "plt.subplots(figsize = (12,8))\n",
    "# Selecting a random single-shot\n",
    "shot = sshot[np.random.randint(sshot.shape[0]),:];\n",
    "plt.hist(shot,normed = 1, bins = num_bins, range=[xmin, xmax], alpha = 0.3, linewidth = 8, \n",
    "         color = 'b', histtype = 'step');\n",
    "plt.hist(shot,normed = 1, bins = num_bins, range=[xmin, xmax], alpha = 0.3, linewidth = 8, \n",
    "         color = 'b', histtype = 'bar');\n",
    "plt.plot(x,  system.rho1(x), linewidth = 4, color = 'k',linestyle='--', label='Boson Density');\n",
    "plt.legend(fontsize = 'xx-large');\n",
    "plt.xlabel('Position',fontsize = 'xx-large');\n",
    "plt.ylabel('Probability density',fontsize = 'xx-large');\n",
    "plt.xticks(fontsize = 'x-large');\n",
    "plt.yticks(fontsize = 'x-large');\n",
    "plt.xlim((xmin,xmax));"
   ]
  },
  {
   "cell_type": "markdown",
   "metadata": {},
   "source": [
    "### Constructing an image representation of all single-shots"
   ]
  },
  {
   "cell_type": "code",
   "execution_count": null,
   "metadata": {
    "collapsed": false
   },
   "outputs": [],
   "source": [
    "num_bins = 128\n",
    "sshot_image = np.zeros((sshot.shape[0],num_bins))\n",
    "for ind in range(sshot.shape[0]): \n",
    "    sshot_image[ind,:], edges = np.histogram(sshot[ind,:], normed = 1, bins = num_bins, range=[xmin, xmax])"
   ]
  },
  {
   "cell_type": "code",
   "execution_count": null,
   "metadata": {
    "collapsed": false,
    "scrolled": false
   },
   "outputs": [],
   "source": [
    "plt.subplots(figsize = (20,200));\n",
    "plt.imshow(sshot_image[:,:]); \n",
    "plt.axis('off');"
   ]
  }
 ],
 "metadata": {
  "kernelspec": {
   "display_name": "Python [conda root]",
   "language": "python",
   "name": "conda-root-py"
  },
  "language_info": {
   "codemirror_mode": {
    "name": "ipython",
    "version": 3
   },
   "file_extension": ".py",
   "mimetype": "text/x-python",
   "name": "python",
   "nbconvert_exporter": "python",
   "pygments_lexer": "ipython3",
   "version": "3.5.2"
  }
 },
 "nbformat": 4,
 "nbformat_minor": 2
}
