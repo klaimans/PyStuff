{
 "cells": [
  {
   "cell_type": "code",
   "execution_count": 1,
   "metadata": {
    "collapsed": true
   },
   "outputs": [],
   "source": [
    "%matplotlib inline\n",
    "import numpy as np\n",
    "\n",
    "import matplotlib.pyplot as plt\n",
    "from matplotlib import cm\n",
    "\n",
    "from scipy.stats import multivariate_normal"
   ]
  },
  {
   "cell_type": "markdown",
   "metadata": {},
   "source": [
    "# The Harmonic Interaction Model\n",
    "\n",
    "### The N-body probabilty distribution function (PDF)\n",
    "\n",
    "$ \\begin{align} P_m &\\equiv P(r_1,r_2,\\ldots,r_m) = \\left|\\Psi\\left(r_1,r_2,\\ldots,r_N\\right)\\right|^2\\\\\n",
    "& = \\left(\\frac{\\delta_N}{\\pi}\\right)^{\\frac{dm}{2}}\\left(\\frac{N\\omega}{(N-m)\\omega +m\\delta_N}\\right)^{\\frac{d}{2}}\\exp\\left(-\\frac{1}{N}\\left(\\omega+(N-1)\\delta_N\\right)\\sum_{i=1}^mr_i^2-\\frac{1}{N}\\sum_{i\\neq j}^mr_ir_j\\right)\\exp\\left(-\\frac{1}{2N}\\left(\\frac{(N-m)(\\omega-\\delta_n)^2}{(N-m)\\omega + m \\delta_N}\\right)\\sum_{i=1}^mr_i\\right) \\end{align}$\n",
    "\n",
    "### Probability \"Chain Rule\"\n",
    "\n",
    "$$ P(r_1,r_2,\\ldots,r_m) = P(r_1)P(r_2|r_1)\\cdots P(r_m|r_1,r_2,\\ldots,r_{m-1}) $$\n",
    "\n",
    "### The conditional probability is given by\n",
    "\n",
    "$  \\begin{align} P(r_m|r_1,r_2,\\ldots,r_{m-1}) &= \\frac{P(r_1,r_2,\\ldots,r_m)}{P(r_1,r_2,\\ldots,r_{m-1})} \\\\\n",
    "&= \\frac{P_m}{P_{m-1}} = \\left(\\frac{\\delta_N}{\\pi}\\right)^{\\frac{d}{2}}\\left(1 + \\frac{\\omega-\\delta_N}{(N-m)\\omega +m\\delta_N}\\right)^{\\frac{d}{2}}\\exp\\left(-\\frac{1}{N}(\\omega+(N-1)\\delta_N)r_m^2\\right) \\end{align}$"
   ]
  },
  {
   "cell_type": "code",
   "execution_count": 2,
   "metadata": {
    "collapsed": false
   },
   "outputs": [],
   "source": [
    "class HIM: \n",
    "    \"\"\"\n",
    "    Class for creating the Quantum Ground State of the one dimensional \n",
    "    Bosonic Harmonic Interaction Model (HIM)\n",
    "    see J. Math. Phys. 26(12), 3105, (1985).\n",
    "    \n",
    "    Parameters\n",
    "    -----------\n",
    "    N - Number of Bosons.\n",
    "    omega - Frequency of the single particle harmonic confinement potential.\n",
    "    lambda0 - Two body interaction parameter (= gamma^2 / 2 in the paper).\n",
    "    \"\"\"\n",
    "    def __init__(self, N = 10, omega = 1, lambda0 = 0.1):\n",
    "        self.N = N\n",
    "        self.dimensions = 1\n",
    "        self.omega = omega\n",
    "        self.lambda0 = lambda0\n",
    "        self.deltaN = np.sqrt(np.power(omega,2)+N*2*lambda0)\n",
    "        self.KN = np.power(self.deltaN/np.pi,(self.dimensions/4)*(self.N-1))\\\n",
    "                * np.power(self.omega/np.pi,(self.dimensions/4))\n",
    "        self.A = (1/(4*self.N))*((self.N-1)*self.deltaN + self.omega)\n",
    "        self.B = (1/(4*self.N))*(self.omega - self.deltaN)\n",
    "        self.a1 = ((self.N-1.0)*(np.power(self.omega,2) + np.power(self.deltaN,2))\n",
    "                + 2.0 * (np.power(self.N,2) - self.N + 1)*self.omega*self.deltaN)\\\n",
    "                / ((self.N-1.0)*self.omega+self.deltaN) / (4.0*self.N)\n",
    "        self.a2 = (self.N-1)*np.power(self.omega-self.deltaN,2)\\\n",
    "                /((self.N-1.0)*self.omega+self.deltaN) / (2.0*self.N)\n",
    "    def psiN(self,x):\n",
    "        \"\"\" \n",
    "        The many-body wavefunction Psi(x1,x2,...,xN) \n",
    "        ---------------------------------------------\n",
    "        Input - N-dimensional postion vector \n",
    "        Output - value of wavefunction \n",
    "        \n",
    "        \"\"\"\n",
    "        if (self.N != len(x)):\n",
    "            return('Wrong Input. The length of x must be {}'.format(self.N))\n",
    "        wavefunction = self.KN * np.exp(- 2 * self.A * np.dot(x,x) \n",
    "                                   - 4 * self.B * (np.sum(np.sum(np.outer(x, x) - np.diag(x*x))))/2)\n",
    "        return wavefunction\n",
    "    def rho1(self, x, xp = 0.0, diag = True, normN = False): \n",
    "        \"\"\"\n",
    "        The one-body reduced density matrix\n",
    "        -----------------------------------\n",
    "        rho (x, xp)\n",
    "        \n",
    "        Input - two position values or mesh grid matrices\n",
    "        Output - the density matrix over the input\n",
    "        \n",
    "        diag - flag to return only the boson density, i.e., x = xp\n",
    "        normN - flag to normalize the boson density to N. \n",
    "        \"\"\"\n",
    "        if diag == True: # will return only the diagonal of the density matrix as a vector\n",
    "            rho = np.exp(-self.a1*(np.power(x,2)+np.power(x,2))+self.a2*x*x)\n",
    "        else: # return the full first order density matrix\n",
    "            rho = np.exp(-self.a1*(np.power(x,2)+np.power(xp,2))+self.a2*x*xp)          \n",
    "        rho = rho * np.power(self.deltaN * self.N * self.omega\n",
    "                                              / np.pi / ((self.N-1)*self.omega+self.deltaN),self.dimensions/2)           \n",
    "        if normN == True:\n",
    "            rho = rho * self.N\n",
    "        return rho\n",
    "    def rhoN(self, x, xp = 0.0, diag = True): \n",
    "        \"\"\"\n",
    "        The N-body density matrix\n",
    "        -------------------------\n",
    "        rhoN(x1,...,xM,x1p,...,xNp)\n",
    "        \n",
    "        Input - two N-dimensional vectors \n",
    "        Output - value of the densiy\n",
    "        \n",
    "        diag - flag to output the diagonal element only, i.e., x1 = x1p, ..., xN = xNp\n",
    "        \"\"\"\n",
    "        if diag == True:\n",
    "            rhoN = np.power(self.psiN(x), 2)\n",
    "        else:\n",
    "            rhoN = np.power(self.KN, 2) * np.exp(-2 * self.A * (np.power(x,2)+np.power(xp,2))\n",
    "                                                 - 4 * self.B * ((np.sum(np.sum(np.outer(x, x) - np.diag(x*x))))/2)\n",
    "                                                 + ((np.sum(np.sum(np.outer(xp, xp) - np.diag(xp*xp))))/2))\n",
    "        return rhoN \n",
    "    def singleshot(self, numshots = 1, xmin = -2.0, xmax = +2.0):\n",
    "        \"\"\"\n",
    "        Single-shot implementation directly from the N-body density\n",
    "        using rejection sampling. The random samples are taken from \n",
    "        the multivariate normal distribution. For more than a few particles\n",
    "        this doesn't work as the sampling efficiency drops to zero !!! \n",
    "        \"\"\"\n",
    "        covmat = np.eye(self.N)/(self.deltaN)\n",
    "        rv = multivariate_normal(mean=np.zeros(self.N),\n",
    "                                 cov=covmat, allow_singular=False)\n",
    "        M = np.power(self.KN,2)\n",
    "        sample_size =  (max(1,int(1.0/M))*numshots,self.N)\n",
    "        #coordinate_sample = (xmax - xmin) * np.random.random_sample(sample_size) + xmin\n",
    "        coordinate_sample = rv.rvs(sample_size[0])\n",
    "        p = np.random.random_sample(sample_size[0])\n",
    "        f = np.zeros_like(p)\n",
    "        for i in range(sample_size[0]):\n",
    "        #    f[i] = self.rhoN(coordinate_sample[i,:])\n",
    "            f[i] = self.rhoN(coordinate_sample[i]) / rv.pdf(coordinate_sample[i])\n",
    "        M = np.power(self.KN,2)*(np.power(2*np.pi,self.N/2)*np.sqrt(np.linalg.det(covmat)))\n",
    "        idx = (p <= f/M) # rejection sampling\n",
    "        sshot = coordinate_sample[idx]\n",
    "        print('Estimated Sampling Efficency={:3.2f}%'.format(100*sshot.shape[0]/coordinate_sample.shape[0]))\n",
    "        return sshot\n",
    "        \n"
   ]
  },
  {
   "cell_type": "code",
   "execution_count": 34,
   "metadata": {
    "collapsed": false,
    "scrolled": true
   },
   "outputs": [],
   "source": [
    "system = HIM(N = 4, omega = 1, lambda0 = 2);\n",
    "#print(system.__doc__)"
   ]
  },
  {
   "cell_type": "code",
   "execution_count": 35,
   "metadata": {
    "collapsed": false
   },
   "outputs": [
    {
     "name": "stdout",
     "output_type": "stream",
     "text": [
      "Estimated Sampling Efficency=43.39%\n"
     ]
    },
    {
     "data": {
      "image/png": "[encoded data removed]",
      "text/plain": [
       "<matplotlib.figure.Figure at 0x2abae687b748>"
      ]
     },
     "metadata": {},
     "output_type": "display_data"
    }
   ],
   "source": [
    "sshot = system.singleshot(numshots = 10000)\n",
    "x = np.linspace(-4,4,512,endpoint=True)\n",
    "plt.subplots(figsize = (12,8))\n",
    "plt.hist(sshot.ravel(),normed = 1, bins = 32, alpha = 0.5, histtype='stepfilled', linewidth = 3, color = 'b');\n",
    "plt.plot(x,  system.rho1(x), linewidth = 3, color = 'k');"
   ]
  }
 ],
 "metadata": {
  "kernelspec": {
   "display_name": "Python [conda root]",
   "language": "python",
   "name": "conda-root-py"
  },
  "language_info": {
   "codemirror_mode": {
    "name": "ipython",
    "version": 3
   },
   "file_extension": ".py",
   "mimetype": "text/x-python",
   "name": "python",
   "nbconvert_exporter": "python",
   "pygments_lexer": "ipython3",
   "version": "3.5.2"
  }
 },
 "nbformat": 4,
 "nbformat_minor": 2
}
