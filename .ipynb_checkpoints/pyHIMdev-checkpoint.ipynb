{
 "cells": [
  {
   "cell_type": "code",
   "execution_count": 1,
   "metadata": {
    "collapsed": true
   },
   "outputs": [],
   "source": [
    "%matplotlib inline\n",
    "import numpy as np\n",
    "\n",
    "import matplotlib.pyplot as plt\n",
    "from matplotlib import cm\n",
    "\n",
    "from scipy.stats import multivariate_normal"
   ]
  },
  {
   "cell_type": "code",
   "execution_count": 7,
   "metadata": {
    "collapsed": false
   },
   "outputs": [],
   "source": [
    "class HIM: \n",
    "    \"\"\"\n",
    "    Class for creating the Quantum Ground State of the one dimensional \n",
    "    Bosonic Harmonic Interaction Model (HIM)\n",
    "    see J. Math. Phys. 26(12), 3105, (1985).\n",
    "    \n",
    "    Parameters\n",
    "    -----------\n",
    "    N - Number of Bosons.\n",
    "    omega - Frequency of the single particle harmonic confinement potential.\n",
    "    lambda0 - Two body interaction parameter (= gamma^2 / 2 in the paper).\n",
    "    \"\"\"\n",
    "    def __init__(self, N = 10, omega = 1, lambda0 = 0.1):\n",
    "        self.N = N\n",
    "        self.dimensions = 1\n",
    "        self.omega = omega\n",
    "        self.lambda0 = lambda0\n",
    "        self.deltaN = np.sqrt(np.power(omega,2)+N*2*lambda0)\n",
    "        self.KN = np.power(self.deltaN/np.pi,(self.dimensions/4)*(self.N-1))\\\n",
    "                * np.power(self.omega/np.pi,(self.dimensions/4))\n",
    "        self.A = (1/(4*self.N))*((self.N-1)*self.deltaN + self.omega)\n",
    "        self.B = (1/(4*self.N))*(self.omega - self.deltaN)\n",
    "        # parameters for Rho1\n",
    "        self.a1 = ((self.N-1.0)*(np.power(self.omega,2) + np.power(self.deltaN,2))\n",
    "                + 2.0 * (np.power(self.N,2) - self.N + 1)*self.omega*self.deltaN)\\\n",
    "                / ((self.N-1.0)*self.omega+self.deltaN) / (4.0*self.N)\n",
    "        self.a2 = (self.N-1)*np.power(self.omega-self.deltaN,2)\\\n",
    "                /((self.N-1.0)*self.omega+self.deltaN) / (2.0*self.N)\n",
    "        # parameters for Rho2\n",
    "        self.b1 = (1 / (4 * self.N)) * ((self.N - 2) * self.omega**2 + (3 * self.N - 2) * self.deltaN**2\n",
    "                + 2 * (self.N**2 - 2 * self.N + 2) * self.omega * self.deltaN)\\\n",
    "                / ((self.N - 2) * self.omega + 2 * self.deltaN)\n",
    "        self.b2 = (1 / (2 * self.N)) * ((self.N - 2) * self.omega**2 - (self.N + 2) * self.deltaN**2\n",
    "                + 4 * self.omega * self.deltaN)\\\n",
    "                / ((self.N - 2) * self.omega + 2 * self.deltaN)\n",
    "        self.b3 = (1 / (2 * self.N)) * ((self.N - 2) * (self.omega - self.deltaN)**2)\\\n",
    "                / ((self.N - 2) * self.omega + 2 * self.deltaN)\n",
    "    def conditonalP(self,x,R,m):\n",
    "        Pcond = np.sqrt(1.0/(2 * np.pi * self.var(m)))\\\n",
    "              * np.exp(-(x - self.mu(m)*R)**2/(2*self.var(m)))\n",
    "        return Pcond\n",
    "    def mu(self,m):\n",
    "        mu = (self.deltaN - self.omega) / ((m - 1) * self.deltaN + (1 - m + self.N) * self.omega)\n",
    "        return mu\n",
    "    def var(self,m):\n",
    "        var = m * (self.deltaN - self.omega) + self.N * self.omega\n",
    "        var = var / (2 * self.deltaN * ((m - 1) * self.deltaN + (1 - m + self.N) * self.omega))\n",
    "        return var\n",
    "    def sigma(self,m):\n",
    "        sigma = np.sqrt(self.var(m))    \n",
    "        return sigma\n",
    "    def psiN(self,x):\n",
    "        \"\"\" \n",
    "        The many-body wavefunction Psi(x1,x2,...,xN) \n",
    "        ---------------------------------------------\n",
    "        Input - N-dimensional postion vector \n",
    "        Output - value of wavefunction \n",
    "        \n",
    "        \"\"\"\n",
    "        if (self.N != len(x)):\n",
    "            return('Wrong Input. The length of x must be {}'.format(self.N))\n",
    "        wavefunction = self.KN * np.exp(- 2 * self.A * np.dot(x,x) \n",
    "                                   - 4 * self.B * (np.sum(np.sum(np.outer(x, x) - np.diag(x*x))))/2)\n",
    "        return wavefunction\n",
    "    def rho1(self, x, xp = 0.0, diag = True, normN = False): \n",
    "        \"\"\"\n",
    "        The one-body reduced density matrix\n",
    "        -----------------------------------\n",
    "        rho (x, xp)\n",
    "        \n",
    "        Input - two position values or mesh grid matrices\n",
    "        Output - the density matrix over the input\n",
    "        \n",
    "        diag - flag to return only the boson density, i.e., x = xp\n",
    "        normN - flag to normalize the boson density to N. \n",
    "        \"\"\"\n",
    "        if diag == True: # will return only the diagonal of the density matrix as a vector\n",
    "            rho = np.exp(-self.a1*(np.power(x,2)+np.power(x,2))+self.a2*x*x)\n",
    "        else: # return the full first order density matrix\n",
    "            rho = np.exp(-self.a1*(np.power(x,2)+np.power(xp,2))+self.a2*x*xp)          \n",
    "        rho = rho * np.power(self.deltaN * self.N * self.omega\n",
    "                                              / np.pi / ((self.N-1)*self.omega+self.deltaN),self.dimensions/2)           \n",
    "        if normN == True:\n",
    "            rho = rho * self.N\n",
    "        return rho\n",
    "    def rho2(self, x1, x2, x1p = 0.0, x2p = 0.0, diag = True, normN = False): \n",
    "        \"\"\"\n",
    "        The two-body reduced density matrix\n",
    "        -----------------------------------\n",
    "        rho2 (x1, x2, x1p, x2p)\n",
    "        \n",
    "        Input - four position values\n",
    "        Output - the second order reduced density over the input\n",
    "        \n",
    "        diag - flag to return only the diagonal of the two-body density, i.e., x1 = x1p, x2 = x2p\n",
    "        normN - flag to normalize the second order density to N(N-1)/2. \n",
    "        \"\"\"\n",
    "        if diag == True: # will return only the diagonal of the density matrix as a vector\n",
    "            rho = np.exp(-2 * self.b1*(np.power(x1,2) + np.power(x2,2))\n",
    "                        - 2 * self.b2 * (x1 * x2) + self.b3 * (np.power(x1,2) + np.power(x2,2) +2 * x1 * x2))\n",
    "        else: # return the full first order density matrix\n",
    "            rho = 0\n",
    "        rho = rho * np.power(self.deltaN**2 * self.N * self.omega\n",
    "                                              / np.pi**2 / ((self.N-2)*self.omega+2*self.deltaN),self.dimensions/2) \n",
    "        if normN == True:\n",
    "            rho = rho * self.N * (self.N - 1) / 2\n",
    "        return rho\n",
    "    def rhoN(self, x, xp = 0.0, diag = True): \n",
    "        \"\"\"\n",
    "        The N-body density matrix\n",
    "        -------------------------\n",
    "        rhoN(x1,...,xM,x1p,...,xNp)\n",
    "        \n",
    "        Input - two N-dimensional vectors \n",
    "        Output - value of the densiy\n",
    "        \n",
    "        diag - flag to output the diagonal element only, i.e., x1 = x1p, ..., xN = xNp\n",
    "        \"\"\"\n",
    "        if diag == True:\n",
    "            rhoN = np.power(self.psiN(x), 2)\n",
    "        else:\n",
    "            rhoN = np.power(self.KN, 2) * np.exp(-2 * self.A * (np.power(x,2)+np.power(xp,2))\n",
    "                                                 - 4 * self.B * ((np.sum(np.sum(np.outer(x, x) - np.diag(x*x))))/2)\n",
    "                                                 + ((np.sum(np.sum(np.outer(xp, xp) - np.diag(xp*xp))))/2))\n",
    "        return rhoN \n",
    "    def singleshot(self, numshots = 1, xmin = -10.0, xmax = +10.0):\n",
    "        \"\"\"\n",
    "        Single-shot implementation directly from the N-body density\n",
    "        using rejection sampling. The random samples are taken from \n",
    "        the multivariate normal distribution. For more than a few particles\n",
    "        this doesn't work as the sampling efficiency drops to zero !!! \n",
    "        \"\"\"\n",
    "        #covmat = np.eye(self.N)/(self.deltaN)\n",
    "        covmat = np.eye(self.N)\n",
    "        rv = multivariate_normal(mean=np.zeros(self.N),\n",
    "                                 cov=covmat, allow_singular=False)\n",
    "        M = np.power(self.KN,2)\n",
    "        sample_size =  (max(1,int(1.0/M))*numshots,self.N)\n",
    "        #coordinate_sample = (xmax - xmin) * np.random.random_sample(sample_size) + xmin\n",
    "        coordinate_sample = rv.rvs(sample_size[0])\n",
    "        p = np.random.random_sample(sample_size[0])\n",
    "        f = np.zeros_like(p)\n",
    "        for i in range(sample_size[0]):\n",
    "        #    f[i] = self.rhoN(coordinate_sample[i,:])\n",
    "            f[i] = self.rhoN(coordinate_sample[i]) / rv.pdf(coordinate_sample[i])\n",
    "        M = np.power(self.KN,2)*(np.power(2*np.pi,self.N/2)*np.sqrt(np.linalg.det(covmat)))\n",
    "        idx = (p <= f/M) # rejection sampling\n",
    "        sshot = coordinate_sample[idx]\n",
    "        print('Estimated Sampling Efficency={:3.2f}%'.format(100*sshot.shape[0]/coordinate_sample.shape[0]))\n",
    "        return sshot\n",
    "    def check_condP(self):\n",
    "        \"\"\"\n",
    "        Chech implementation of the conditional probability by comparing P2(x2|x1) with rho2(x2,x1)/rho1(x1)\n",
    "        \"\"\"\n",
    "        x = np.linspace(-4,4,128,endpoint=True)\n",
    "        [X1,X2] = np.meshgrid(x,x)\n",
    "        RHO2 = self.rho2(X1,X2)\n",
    "        RHO1 = self.rho1(X1)\n",
    "        PCOND2 = self.conditonalP(X2,X1,2)\n",
    "        fig, axs = plt.subplots(1,2,figsize = (12,6))\n",
    "        s = 'Verifying the implementation of the conditional probability\\n'\n",
    "        s = s + 'Maximal difference betweeen the two implementations is {:3.2e}'\n",
    "        fig.suptitle(s\n",
    "                  .format(np.max(PCOND2-RHO2/RHO1)),fontsize = 16)\n",
    "        axs[0].pcolor(X1,X2,RHO2/RHO1);\n",
    "        axs[1].pcolor(X1,X2,PCOND2);\n",
    "    def rho1hist(self, numshots = 1, xmin = -5.0, xmax = +5.0, random_dist = 'uniform'):\n",
    "        \"\"\"\n",
    "        \n",
    "        \"\"\"\n",
    "        if random_dist == 'uniform':\n",
    "            M = np.power(self.KN,2)\n",
    "            sample_size =  (max(1,int(1.0/M))*numshots)\n",
    "            coordinate_sample = (xmax - xmin) * np.random.random_sample(sample_size) + xmin\n",
    "            f = self.rho1(coordinate_sample)\n",
    "        elif random_dist == 'normal':\n",
    "            sigma = np.sqrt(1.0/self.deltaN)\n",
    "            sigma = 5\n",
    "            M = np.power(self.KN,2)*np.sqrt(2*np.pi)*sigma\n",
    "            print(M)\n",
    "            sample_size =  (max(1,int(1.0/M))*numshots)\n",
    "            coordinate_sample = np.random.normal(0, sigma, sample_size)\n",
    "            f = self.rho1(coordinate_sample)/self.gaussian(0, sigma, coordinate_sample)\n",
    "        p = np.random.random_sample(sample_size)\n",
    "        idx = (p <= f/M) # rejection sampling\n",
    "        sshot = coordinate_sample[idx]\n",
    "        print('Estimated Sampling Efficency={:3.2f}%'.format(100*sshot.shape[0]/coordinate_sample.shape[0]))\n",
    "#        return sshot\n",
    "        plt.hist(sshot,normed = 1, bins = 32, alpha = 0.5, histtype='stepfilled', linewidth = 3, color = 'b');\n",
    "        x = np.linspace(-3,3,512,endpoint=True)\n",
    "        plt.plot(x,  self.rho1(x), linewidth = 3, color = 'k');\n",
    "    def rho2hist(self, numshots = 1, xmin = -5.0, xmax = +5.0, ymin = -5.0, ymax = +5.0):\n",
    "        \"\"\"\n",
    "        \n",
    "        \"\"\"\n",
    "\n",
    "        #x_sample = (xmax - xmin) * np.random.random_sample(sample_size) + xmin\n",
    "        #y_sample = (ymax - ymin) * np.random.random_sample(sample_size) + ymin\n",
    "        #x_sample = np.random.normal(0, 1, sample_size)\n",
    "        #y_sample = np.random.normal(0, 1, sample_size)\n",
    "        meanmat=np.zeros(2)\n",
    "        covmat = np.eye(2)\n",
    "        M = self.rho2(0,0) * (2*np.pi*np.sqrt(np.linalg.det(covmat)))\n",
    "        sample_size =  (max(1,int(1.0/M))*numshots,2)\n",
    "        #x_sample, y_sample = np.random.multivariate_normal(mean, covmat, sample_size).T\n",
    "        rv = multivariate_normal(mean=meanmat,\n",
    "                                 cov=covmat, allow_singular=False)\n",
    "        coordinate_sample = rv.rvs(sample_size[0])\n",
    "        p = np.random.random_sample(sample_size[0])\n",
    "        f = np.zeros_like(p)\n",
    "        for i in range(sample_size[0]):\n",
    "            f[i] = self.rho2(coordinate_sample[i][0],coordinate_sample[i][1]) / rv.pdf(coordinate_sample[i])\n",
    "        #f = self.rho2(x_sample,y_sample)/(self.gaussian(0.0, 1.0, x_sample)*self.gaussian(0, 1, y_sample))\n",
    "        #f = self.rho2(x_sample,y_sample)\n",
    "        idx = (p <= f/M) # rejection sampling\n",
    "        #sshot = np.asarray([x_sample[idx],y_sample[idx]])\n",
    "        print(coordinate_sample.shape)\n",
    "        sshot = coordinate_sample[idx]\n",
    "        #print('Estimated Sampling Efficency={:3.2f}%'.format(100*sshot.shape[0]/x_sample.shape[0]))\n",
    "        print('Estimated Sampling Efficency={:3.2f}%'.format(100*sshot.shape[0]/coordinate_sample.shape[0]))\n",
    "        return sshot\n",
    "    def gaussian(self, mu, sigma, x):\n",
    "        gauss = (1.0/(sigma * np.sqrt(2 * np.pi))) * np.exp( - (x - mu)**2 / (2 * sigma**2)) \n",
    "        return gauss\n",
    "    def singleshot_chainrule(self, numshots = 1):\n",
    "        \"\"\"\n",
    "        Single-shot from the N-body density expanded as a product of conditional probabilities \n",
    "        and the one body density. \n",
    "        \"\"\"\n",
    "        sshot = np.zeros((numshots,self.N))\n",
    "        Psshot = np.zeros(numshots)\n",
    "        coordinate_sample = np.zeros(self.N)\n",
    "        for i in range(numshots):\n",
    "            mu = 0.0\n",
    "            sigma = np.sqrt (1 / (2 * (2 * self.a1 - self.a2)))\n",
    "            coordinate_sample[:] = 0\n",
    "            coordinate_sample[0] = np.random.normal(mu, sigma)\n",
    "            Psshot[i] = self.gaussian(mu,sigma,coordinate_sample[0])\n",
    "            for m in range(2,system.N+1):\n",
    "                R = np.sum(coordinate_sample)\n",
    "                mu = self.mu(m)*R\n",
    "                sigma = self.sigma(m)\n",
    "                coordinate_sample[m-1] = np.random.normal(mu, sigma)\n",
    "                Psshot[i] = Psshot[i] * self.gaussian(mu,sigma,coordinate_sample[m-1])\n",
    "            sshot[i,:] = coordinate_sample\n",
    "        return sshot, Psshot"
   ]
  },
  {
   "cell_type": "code",
   "execution_count": 8,
   "metadata": {
    "collapsed": false,
    "scrolled": true
   },
   "outputs": [],
   "source": [
    "system = HIM(N = 10, omega = 1, lambda0 = 5);\n",
    "#print(system.__doc__)\n",
    "#system.check_condP()"
   ]
  },
  {
   "cell_type": "code",
   "execution_count": 12,
   "metadata": {
    "collapsed": false
   },
   "outputs": [
    {
     "data": {
      "image/png": "[encoded data removed]",
      "text/plain": [
       "<matplotlib.figure.Figure at 0x25996b56d30>"
      ]
     },
     "metadata": {},
     "output_type": "display_data"
    }
   ],
   "source": [
    "sshot,Psshot = system.singleshot_chainrule(numshots = 1000)\n",
    "x = np.linspace(-3,3,512,endpoint=True)\n",
    "plt.subplots(figsize = (12,8))\n",
    "plt.hist(sshot.ravel(),normed = 1, bins = 32, alpha = 0.5, linewidth = 3, color = 'b');\n",
    "plt.plot(x,  system.rho1(x), linewidth = 3, color = 'k');"
   ]
  },
  {
   "cell_type": "code",
   "execution_count": null,
   "metadata": {
    "collapsed": false
   },
   "outputs": [],
   "source": [
    "mu = 0.0\n",
    "sigma = np.sqrt (1 / (2 * (2 * system.a1 - system.a2)))\n",
    "x = np.linspace(-3,3,512,endpoint=True)\n",
    "plt.plot(x, system.rho1(x))\n",
    "rho1_sample = np.random.normal(-mu, sigma, 10000)\n",
    "plt.hist(rho1_sample,normed = 1, bins = 32, alpha = 0.5, linewidth = 3, color = 'b');\n"
   ]
  },
  {
   "cell_type": "code",
   "execution_count": null,
   "metadata": {
    "collapsed": false
   },
   "outputs": [],
   "source": []
  },
  {
   "cell_type": "code",
   "execution_count": 13,
   "metadata": {
    "collapsed": false
   },
   "outputs": [],
   "source": [
    "PN = np.zeros(Psshot.shape[0])\n",
    "for i in range(Psshot.shape[0]):\n",
    "    PN[i] = system.rhoN(sshot[i,:])"
   ]
  },
  {
   "cell_type": "code",
   "execution_count": 14,
   "metadata": {
    "collapsed": false
   },
   "outputs": [
    {
     "data": {
      "text/plain": [
       "7.815970093361102e-14"
      ]
     },
     "execution_count": 14,
     "metadata": {},
     "output_type": "execute_result"
    }
   ],
   "source": [
    "np.max(PN - Psshot)"
   ]
  },
  {
   "cell_type": "code",
   "execution_count": null,
   "metadata": {
    "collapsed": false
   },
   "outputs": [],
   "source": []
  },
  {
   "cell_type": "code",
   "execution_count": null,
   "metadata": {
    "collapsed": false
   },
   "outputs": [],
   "source": [
    "sshot = system.singleshot(numshots = 1000)"
   ]
  },
  {
   "cell_type": "code",
   "execution_count": null,
   "metadata": {
    "collapsed": false
   },
   "outputs": [],
   "source": [
    "sshot.shape"
   ]
  },
  {
   "cell_type": "code",
   "execution_count": null,
   "metadata": {
    "collapsed": false
   },
   "outputs": [],
   "source": [
    "x = np.linspace(-3,3,512,endpoint=True)\n",
    "plt.subplots(figsize = (12,8))\n",
    "plt.hist(sshot.ravel(),normed = 1, bins = 64, alpha = 0.5, histtype='stepfilled', linewidth = 3, color = 'b');\n",
    "#plt.hist(sshot[:,0],normed = 1, bins = 32, alpha = 0.5, histtype='stepfilled', linewidth = 3, color = 'b');\n",
    "plt.plot(x,  system.rho1(x), linewidth = 3, color = 'k');\n",
    "plt.plot(x,  system.conditonalP(x,0,2),'--', linewidth = 3, color = 'r');\n",
    "#plt.plot(x,  system.conditonalP(x,0,3),':', linewidth = 3, color = 'g');\n",
    "#plt.plot(x,  system.conditonalP(x,0,4),'--', linewidth = 3, color = 'm');"
   ]
  },
  {
   "cell_type": "code",
   "execution_count": null,
   "metadata": {
    "collapsed": true
   },
   "outputs": [],
   "source": []
  },
  {
   "cell_type": "code",
   "execution_count": null,
   "metadata": {
    "collapsed": false
   },
   "outputs": [],
   "source": [
    "covmat = np.eye(system.N)\n",
    "np.power(system.KN,2)*(np.power(2*np.pi,system.N/2)*np.sqrt(np.linalg.det(covmat)))"
   ]
  },
  {
   "cell_type": "code",
   "execution_count": null,
   "metadata": {
    "collapsed": false
   },
   "outputs": [],
   "source": [
    "rho1hist = system.rho1hist(numshots = 100000, random_dist = 'normal')"
   ]
  },
  {
   "cell_type": "code",
   "execution_count": null,
   "metadata": {
    "collapsed": false
   },
   "outputs": [],
   "source": [
    "system.deltaN"
   ]
  },
  {
   "cell_type": "code",
   "execution_count": null,
   "metadata": {
    "collapsed": false,
    "scrolled": false
   },
   "outputs": [],
   "source": []
  },
  {
   "cell_type": "code",
   "execution_count": null,
   "metadata": {
    "collapsed": false
   },
   "outputs": [],
   "source": [
    "plt.scatter(sshot[:,0],sshot[:,1])"
   ]
  },
  {
   "cell_type": "code",
   "execution_count": null,
   "metadata": {
    "collapsed": false,
    "scrolled": false
   },
   "outputs": [],
   "source": []
  },
  {
   "cell_type": "code",
   "execution_count": null,
   "metadata": {
    "collapsed": false
   },
   "outputs": [],
   "source": [
    "H, xedges, yedges = np.histogram2d(sshot[:,0], sshot[:,1], bins=(32,32))\n",
    "H = H.T  # Let each row list bins with common y range.\n",
    "#plt.hist2d(sshot[:,0], sshot[:,1],bins = (32,32), normed = 1);\n",
    "plt.scatter(sshot[:,0],sshot[:,1])"
   ]
  },
  {
   "cell_type": "code",
   "execution_count": null,
   "metadata": {
    "collapsed": false
   },
   "outputs": [],
   "source": [
    "system = HIM(N = 2, omega = 1, lambda0 = 1)\n",
    "#sshot = system.singleshot(numshots = 10000)\n",
    "rho2hist = system.rho2hist(numshots = 10000)\n",
    "\n",
    "xvec = np.linspace(-3,3,32,endpoint=True)\n",
    "[X,Y] = np.meshgrid(xvec,xvec)\n",
    "Pxy = np.zeros((len(xvec),len(xvec)))\n",
    "for i,x in enumerate(xvec):\n",
    "    for j,xp in enumerate(xvec):\n",
    "        Pxy[i,j] = system.rho2(x,xp)\n",
    "plt.pcolor(X,Y,Pxy);\n",
    "plt.scatter(rho2hist[:,0],rho2hist[:,1], alpha= 0.1)\n",
    "plt.show()"
   ]
  },
  {
   "cell_type": "code",
   "execution_count": null,
   "metadata": {
    "collapsed": false
   },
   "outputs": [],
   "source": [
    "X.shape"
   ]
  },
  {
   "cell_type": "code",
   "execution_count": null,
   "metadata": {
    "collapsed": false
   },
   "outputs": [],
   "source": [
    "rho2hist.shape"
   ]
  },
  {
   "cell_type": "code",
   "execution_count": null,
   "metadata": {
    "collapsed": false
   },
   "outputs": [],
   "source": [
    "#H, edges = np.histogramdd(sshot, bins = (32,32))\n",
    "H, edges = np.histogramdd(rho2hist, bins = (32,32))\n",
    "fig, axs = plt.subplots(1,2,figsize = (12,6))\n",
    "H = H / len(rho2hist[:,0])\n",
    "axs[0].pcolor(H)        \n",
    "xvec = np.linspace(-4,4,32,endpoint=True)\n",
    "Pxy = np.zeros((len(xvec),len(xvec)))\n",
    "for i,x in enumerate(xvec):\n",
    "    for j,xp in enumerate(xvec):\n",
    "        Pxy[i,j] = system.rho2(x,xp)\n",
    "#[X1,X2] = np.meshgrid(x,x)\n",
    "axs[1].pcolor(Pxy);\n"
   ]
  },
  {
   "cell_type": "code",
   "execution_count": null,
   "metadata": {
    "collapsed": false
   },
   "outputs": [],
   "source": [
    "rho2hist.shape"
   ]
  },
  {
   "cell_type": "code",
   "execution_count": null,
   "metadata": {
    "collapsed": false
   },
   "outputs": [],
   "source": [
    "type(rho2hist)"
   ]
  },
  {
   "cell_type": "code",
   "execution_count": null,
   "metadata": {
    "collapsed": false
   },
   "outputs": [],
   "source": [
    "sum(sum(H))"
   ]
  },
  {
   "cell_type": "code",
   "execution_count": null,
   "metadata": {
    "collapsed": false
   },
   "outputs": [],
   "source": [
    "sum(sum(Pxy))*(xvec[1]-xvec[0])**2"
   ]
  },
  {
   "cell_type": "code",
   "execution_count": null,
   "metadata": {
    "collapsed": true
   },
   "outputs": [],
   "source": [
    "H, xedges, yedges = np.histogram2d(, y, bins=(xedges, yedges))\n",
    "H = H.T  # Let each row list bins with common y range.\n",
    "plt.pcolor(H/)"
   ]
  },
  {
   "cell_type": "code",
   "execution_count": null,
   "metadata": {
    "collapsed": false
   },
   "outputs": [],
   "source": [
    "sshot.shape"
   ]
  },
  {
   "cell_type": "code",
   "execution_count": null,
   "metadata": {
    "collapsed": false
   },
   "outputs": [],
   "source": [
    "hist, bins = np.histogram(sshot[:,0], density=False, bins = 32)\n",
    "\n",
    "width = 0.7 * (bins[1] - bins[0])\n",
    "center = (bins[:-1] + bins[1:]) / 2\n",
    "hist_size = sum(hist)\n",
    "plt.bar(center, hist/hist_size, align='center', width=width);\n",
    "\n",
    "hist, bins = np.histogram(sshot[:,1], density=False, bins = 32)\n",
    "\n",
    "width = 0.7 * (bins[1] - bins[0])\n",
    "center = (bins[:-1] + bins[1:]) / 2\n",
    "hist_size = sum(hist)\n",
    "plt.bar(center, hist/hist_size, align='center', width=width);\n",
    "\n",
    "#sshot_2_rho = sshot[:,0]*sum(sshot[:,1])/sshot.shape[0]"
   ]
  },
  {
   "cell_type": "code",
   "execution_count": null,
   "metadata": {
    "collapsed": false
   },
   "outputs": [],
   "source": [
    "sum(hist/np.sqrt(hist_size))*0.14821015"
   ]
  },
  {
   "cell_type": "code",
   "execution_count": null,
   "metadata": {
    "collapsed": false
   },
   "outputs": [],
   "source": [
    "np.diff(bins)"
   ]
  },
  {
   "cell_type": "code",
   "execution_count": null,
   "metadata": {
    "collapsed": false
   },
   "outputs": [],
   "source": [
    "plt.subplots(figsize = (12,8))\n",
    "#plt.hist(sshot[:,0],normed = 1, bins = 32, alpha = 0.5, histtype='stepfilled', linewidth = 3, color = 'b');\n",
    "#plt.plot(x,  system.rho1(x), linewidth = 3, color = 'k');\n",
    "#plt.plot(x,  system.conditonalP(x,0,2),'--', linewidth = 3, color = 'r');"
   ]
  },
  {
   "cell_type": "code",
   "execution_count": null,
   "metadata": {
    "collapsed": false
   },
   "outputs": [],
   "source": [
    "#x = np.random.random_sample(1000)\n",
    "#y = np.random.random_sample(1000)\n",
    "x = np.random.randn(10000)\n",
    "y = np.random.randn(10000)\n",
    "H, xedges, yedges = np.histogram2d(x, y, bins=(32, 32))\n",
    "H = H.T  # Let each row list bins with common y range.\n",
    "\n",
    "fig = plt.figure(figsize=(12, 8))\n",
    "plt.pcolor(H);"
   ]
  },
  {
   "cell_type": "code",
   "execution_count": null,
   "metadata": {
    "collapsed": false
   },
   "outputs": [],
   "source": [
    "[X,Y] = np.meshgrid(x,y)\n",
    "P = 1/(1 * np.sqrt(2 * np.pi)) * np.exp( - (X - 0)**2 / (2 * 1**2)) *1/(1 * np.sqrt(2 * np.pi)) * np.exp( - (Y - 0)**2 / (2 * 1**2)) \n",
    "plt.pcolor(P);"
   ]
  }
 ],
 "metadata": {
  "kernelspec": {
   "display_name": "Python [conda root]",
   "language": "python",
   "name": "conda-root-py"
  },
  "language_info": {
   "codemirror_mode": {
    "name": "ipython",
    "version": 3
   },
   "file_extension": ".py",
   "mimetype": "text/x-python",
   "name": "python",
   "nbconvert_exporter": "python",
   "pygments_lexer": "ipython3",
   "version": "3.5.2"
  }
 },
 "nbformat": 4,
 "nbformat_minor": 2
}
